{
 "cells": [
  {
   "cell_type": "markdown",
   "id": "3fd92ca4-39d7-4b77-bc82-772a222ad742",
   "metadata": {},
   "source": [
    "# Proyecto Final\n",
    "Base de datos de .... sacada de: https://www.kaggle.com/datasets/phambacong/ieee-cis-fraud-detection\n",
    "\n",
    "| Grupo de variables       | Rango/Columnas                  | Descripción general                                                                 |\n",
    "|---------------------------|---------------------------------|-------------------------------------------------------------------------------------|\n",
    "| Identificadores           | `TransactionID`, `TransactionDT` | ID único de la transacción y timestamp relativo (segundos desde inicio del dataset). |\n",
    "| Transacción básica        | `TransactionAmt`, `ProductCD`    | Monto de la transacción y tipo de producto/código de categoría.                      |\n",
    "| Tarjeta                   | `card1` – `card6`                | Información de la tarjeta utilizada (tipo, emisor, categoría, enmascarado).          |\n",
    "| Dirección                 | `addr1`, `addr2`                 | Información parcial de dirección/postal relacionada al usuario.                      |\n",
    "| Distancias                | `dist1`, `dist2`                 | Distancias geográficas aproximadas entre direcciones (billing/shipping).             |\n",
    "| Variables de cuenta       | `P_emaildomain`, `R_emaildomain` | Dominios de correo del pagador y receptor.                                           |\n",
    "| Identidad                 | `id_01` – `id_38`                | Características de dispositivo, navegador, dirección IP, etc. (anonimizadas).        |\n",
    "| Conteos                   | `C1` – `C14`                     | Features de tipo “count”, agregados estadísticos de comportamiento (anonimizados).   |\n",
    "| Diferencias temporales    | `D1` – `D15`                     | Diferencias de tiempo (ej. días desde transacciones anteriores, anonimizados).       |\n",
    "| Flags de coincidencia     | `M1` – `M9`                      | Variables binarias/categóricas que indican si ciertos datos coinciden (billing/shipping, email, etc.). |\n",
    "| Features derivados (Vesta)| `V1` – `V339`                    | Conjunto masivo de variables creadas por Vesta: métricas de riesgo, patrones, ratios, etc. (anonimizados). |\n",
    "| Etiqueta                  | `isFraud`                        | Variable objetivo: 1 si la transacción es fraudulenta, 0 si es legítima.             |\n"
   ]
  },
  {
   "cell_type": "code",
   "execution_count": 4,
   "id": "34f73adf-ada2-406b-8338-642a0bfda35e",
   "metadata": {},
   "outputs": [
    {
     "name": "stderr",
     "output_type": "stream",
     "text": [
      "2025-10-02 15:31:45.955189: I external/local_xla/xla/tsl/cuda/cudart_stub.cc:31] Could not find cuda drivers on your machine, GPU will not be used.\n",
      "2025-10-02 15:31:45.971379: I tensorflow/core/util/port.cc:153] oneDNN custom operations are on. You may see slightly different numerical results due to floating-point round-off errors from different computation orders. To turn them off, set the environment variable `TF_ENABLE_ONEDNN_OPTS=0`.\n",
      "2025-10-02 15:31:46.571665: I tensorflow/core/platform/cpu_feature_guard.cc:210] This TensorFlow binary is optimized to use available CPU instructions in performance-critical operations.\n",
      "To enable the following instructions: AVX2 AVX_VNNI AVX_VNNI_INT8 AVX_NE_CONVERT FMA, in other operations, rebuild TensorFlow with the appropriate compiler flags.\n",
      "2025-10-02 15:31:49.204190: I tensorflow/core/util/port.cc:153] oneDNN custom operations are on. You may see slightly different numerical results due to floating-point round-off errors from different computation orders. To turn them off, set the environment variable `TF_ENABLE_ONEDNN_OPTS=0`.\n",
      "2025-10-02 15:31:49.207293: I external/local_xla/xla/tsl/cuda/cudart_stub.cc:31] Could not find cuda drivers on your machine, GPU will not be used.\n"
     ]
    }
   ],
   "source": [
    "import pandas as pd\n",
    "import numpy as np\n",
    "import matplotlib.pyplot as plt\n",
    "from scipy.stats import entropy\n",
    "import seaborn as sns\n",
    "from sklearn.model_selection import train_test_split, GridSearchCV\n",
    "from sklearn.preprocessing import StandardScaler\n",
    "from sklearn.decomposition import PCA\n",
    "from sklearn.ensemble import RandomForestClassifier, GradientBoostingClassifier\n",
    "from sklearn.svm import SVC\n",
    "from sklearn.metrics import classification_report, confusion_matrix, accuracy_score\n",
    "from imblearn.over_sampling import SMOTE\n",
    "from collections import Counter\n",
    "\n",
    "import tensorflow as tf\n",
    "from tensorflow.keras.models import Sequential\n",
    "from tensorflow.keras.layers import Dense, Dropout\n",
    "from tensorflow.keras.callbacks import EarlyStopping\n",
    "\n",
    "sns.set(style=\"whitegrid\")\n",
    "plt.rcParams['figure.figsize'] = (12, 6)"
   ]
  },
  {
   "cell_type": "code",
   "execution_count": 14,
   "id": "7c12cf88-6aa6-4d46-9348-d7b402261c56",
   "metadata": {},
   "outputs": [
    {
     "name": "stdout",
     "output_type": "stream",
     "text": [
      "Memory usage of dataframe is 1964.38 MB\n",
      "Memory usage after optimization is: 529.96 MB\n",
      "Decreased by 73.0%\n",
      "Forma de las Características (Features): (590540, 435)\n",
      "Forma de las Etiquetas (Labels): (590540,)\n",
      "\n",
      "Primeras 5 filas del DataFrame:\n",
      "   Unnamed: 0  TransactionID_x  isFraud  TransactionDT  TransactionAmt  \\\n",
      "0           0          2987000        0          86400            68.5   \n",
      "1           1          2987001        0          86401            29.0   \n",
      "2           2          2987002        0          86469            59.0   \n",
      "3           3          2987003        0          86499            50.0   \n",
      "4           4          2987004        0          86506            50.0   \n",
      "\n",
      "   ProductCD  card1  card2  card3  card4  ...  id_31  id_32  id_33  id_34  \\\n",
      "0          4  13926  321.0  150.0      1  ...    123   32.0    164      3   \n",
      "1          4   2755  404.0  150.0      2  ...     98   32.0     48      2   \n",
      "2          4   4663  490.0  150.0      3  ...     44   24.0    132      3   \n",
      "3          4  18132  567.0  150.0      2  ...     44   24.0    132      3   \n",
      "4          1   4497  514.0  150.0      2  ...     44   24.0     40      3   \n",
      "\n",
      "   id_35  id_36  id_37  id_38  DeviceType  DeviceInfo  \n",
      "0      1      0      1      1           1         954  \n",
      "1      1      0      0      1           1        1727  \n",
      "2      0      0      1      1           0        1598  \n",
      "3      0      0      1      1           0        1598  \n",
      "4      1      0      1      1           0         723  \n",
      "\n",
      "[5 rows x 436 columns]\n"
     ]
    },
    {
     "name": "stderr",
     "output_type": "stream",
     "text": [
      "/home/pier/mi_venv/lib/python3.13/site-packages/pandas/io/formats/format.py:1458: RuntimeWarning: overflow encountered in cast\n",
      "  has_large_values = (abs_vals > 1e6).any()\n"
     ]
    },
    {
     "data": {
      "image/png": "[encoded data removed]",
      "text/plain": [
       "<Figure size 1200x600 with 1 Axes>"
      ]
     },
     "metadata": {},
     "output_type": "display_data"
    },
    {
     "data": {
      "text/plain": [
       "<Figure size 800x500 with 0 Axes>"
      ]
     },
     "metadata": {},
     "output_type": "display_data"
    },
    {
     "name": "stderr",
     "output_type": "stream",
     "text": [
      "/tmp/ipykernel_4648/1709472706.py:67: PerformanceWarning: DataFrame is highly fragmented.  This is usually the result of calling `frame.insert` many times, which has poor performance.  Consider joining all columns at once using pd.concat(axis=1) instead. To get a de-fragmented frame, use `newframe = frame.copy()`\n",
      "  data_reduced['TransactionDate'] = start_date + pd.to_timedelta(data_reduced['TransactionDT'], unit='s')\n"
     ]
    },
    {
     "data": {
      "image/png": "[encoded data removed]",
      "text/plain": [
       "<Figure size 1000x400 with 1 Axes>"
      ]
     },
     "metadata": {},
     "output_type": "display_data"
    },
    {
     "name": "stdout",
     "output_type": "stream",
     "text": [
      "\n",
      "Conteo de clases: Counter({np.int8(0): 569877, np.int8(1): 20663})\n"
     ]
    }
   ],
   "source": [
    "data_path = './train.csv'\n",
    "data = pd.read_csv(data_path)\n",
    "#data.describe()\n",
    "def reduce_mem_usage(df):\n",
    "    \"\"\" iterate through all the columns of a dataframe and modify the data type\n",
    "        to reduce memory usage.        \n",
    "    \"\"\"\n",
    "    start_mem = df.memory_usage().sum() / 1024**2\n",
    "    print('Memory usage of dataframe is {:.2f} MB'.format(start_mem))\n",
    "    \n",
    "    for col in df.columns:\n",
    "        col_type = df[col].dtype\n",
    "        \n",
    "        if col_type != object:\n",
    "            c_min = df[col].min()\n",
    "            c_max = df[col].max()\n",
    "            if str(col_type)[:3] == 'int':\n",
    "                if c_min > np.iinfo(np.int8).min and c_max < np.iinfo(np.int8).max:\n",
    "                    df[col] = df[col].astype(np.int8)\n",
    "                elif c_min > np.iinfo(np.int16).min and c_max < np.iinfo(np.int16).max:\n",
    "                    df[col] = df[col].astype(np.int16)\n",
    "                elif c_min > np.iinfo(np.int32).min and c_max < np.iinfo(np.int32).max:\n",
    "                    df[col] = df[col].astype(np.int32)\n",
    "                elif c_min > np.iinfo(np.int64).min and c_max < np.iinfo(np.int64).max:\n",
    "                    df[col] = df[col].astype(np.int64)  \n",
    "            else:\n",
    "                if c_min > np.finfo(np.float16).min and c_max < np.finfo(np.float16).max:\n",
    "                    df[col] = df[col].astype(np.float16)\n",
    "                elif c_min > np.finfo(np.float32).min and c_max < np.finfo(np.float32).max:\n",
    "                    df[col] = df[col].astype(np.float32)\n",
    "                else:\n",
    "                    df[col] = df[col].astype(np.float64)\n",
    "        else:\n",
    "            df[col] = df[col].astype('category')\n",
    "\n",
    "    end_mem = df.memory_usage().sum() / 1024**2\n",
    "    print('Memory usage after optimization is: {:.2f} MB'.format(end_mem))\n",
    "    print('Decreased by {:.1f}%'.format(100 * (start_mem - end_mem) / start_mem))\n",
    "    \n",
    "    return df\n",
    "\n",
    "data_reduced = reduce_mem_usage(data)\n",
    "\n",
    "if \"Unnamed: 0\" in data_reduced.columns:\n",
    "    transactions = data_reduced.drop([\"Unnamed: 0\"], axis=1)\n",
    "elif \"Unnamed\" in data_reduced.columns:\n",
    "    transactions = data_reduced.drop([\"Unnamed\"], axis=1)\n",
    "\n",
    "data.head(5)\n",
    "\n",
    "labels = data_reduced['isFraud'].values\n",
    "features = data_reduced.drop(['isFraud'], axis=1).values\n",
    "\n",
    "\n",
    "print('Forma de las Características (Features):', features.shape)\n",
    "print('Forma de las Etiquetas (Labels):', labels.shape)\n",
    "print('\\nPrimeras 5 filas del DataFrame:')\n",
    "print(data_reduced.head())\n",
    "\n",
    "plt.pie(data_reduced.isFraud.value_counts(), labels=['Not Fraud', 'Fraud'], autopct='%0.1f%%')\n",
    "plt.figure(figsize=(8, 5))\n",
    "plt.show()\n",
    "\n",
    "start_date = pd.to_datetime(\"2017-11-30\")\n",
    "\n",
    "# Convertimos TransactionDT en fecha real\n",
    "data_reduced['TransactionDate'] = start_date + pd.to_timedelta(data_reduced['TransactionDT'], unit='s')\n",
    "\n",
    "# Graficamos usando las fechas\n",
    "plt.figure(figsize=(10, 4))\n",
    "plt.hist(data_reduced['TransactionDate'], bins=25, color=\"#005BBB\", label='transactions')\n",
    "plt.ylabel('Count')\n",
    "plt.xlabel('Date')\n",
    "plt.title('Transaction Distribution over Time')\n",
    "plt.legend()\n",
    "plt.tight_layout()\n",
    "plt.show()\n",
    "\n",
    "\n",
    "\n",
    "print(\"\\nConteo de clases:\", Counter(labels))\n"
   ]
  },
  {
   "cell_type": "code",
   "execution_count": 18,
   "id": "336c928f-7973-4e78-a0e7-5e6edc62b89a",
   "metadata": {},
   "outputs": [
    {
     "name": "stdout",
     "output_type": "stream",
     "text": [
      "Columnas con > 70.0% de ceros: 226\n",
      "Forma de las Características despues del drop 1: (590540, 209)\n",
      "Columnas con baja varianza: 7\n",
      "Forma de las Características despues del drop 2: (590540, 202)\n",
      "Columnas altamente correlacionadas: 31\n",
      "Forma de las Características despues del drop 3: (590540, 171)\n"
     ]
    }
   ],
   "source": [
    "zero_threshold = 0.7\n",
    "zero_pct = np.mean(features == 0, axis=0)\n",
    "\n",
    "cols_to_drop_zeros = np.where(zero_pct > zero_threshold)[0].tolist()\n",
    "features_filtered = np.delete(features, cols_to_drop_zeros, axis=1)\n",
    "\n",
    "print(f\"Columnas con > {zero_threshold*100}% de ceros: {len(cols_to_drop_zeros)}\")\n",
    "\n",
    "print('Forma de las Características despues del drop 1:', features_filtered.shape)\n",
    "\n",
    "low_variance_cols = []\n",
    "for i in range(features_filtered.shape[1]):\n",
    "    col = features_filtered[:, i]\n",
    "    if len(np.unique(col)) == 1:\n",
    "        low_variance_cols.append(i)\n",
    "    elif np.std(col) / (np.mean(col) + 1e-10) < 0.01:\n",
    "        low_variance_cols.append(i)\n",
    "\n",
    "features_filtered2 = np.delete(features_filtered, low_variance_cols, axis=1)\n",
    "\n",
    "print(f\"Columnas con baja varianza: {len(low_variance_cols)}\")\n",
    "print('Forma de las Características despues del drop 2:', features_filtered2.shape)\n",
    "\n",
    "corr_matrix = np.corrcoef(features_filtered, rowvar=False)\n",
    "upper_triangle = np.triu(np.ones(corr_matrix.shape), k=1).astype(bool)\n",
    "\n",
    "high_corr_cols = []\n",
    "for j in range(corr_matrix.shape[1]):\n",
    "    if any(corr_matrix[i, j] > 0.95 for i in range(j)):\n",
    "        high_corr_cols.append(j)\n",
    "\n",
    "\n",
    "features_filtered2 = np.delete(features_filtered2, high_corr_cols, axis=1)\n",
    "print(f\"Columnas altamente correlacionadas: {len(high_corr_cols)}\")\n",
    "print('Forma de las Características despues del drop 3:', features_filtered2.shape)\n"
   ]
  },
  {
   "cell_type": "code",
   "execution_count": 20,
   "id": "b0d2692c-2a8f-47e8-a964-2dd7a7508b2f",
   "metadata": {},
   "outputs": [
    {
     "name": "stdout",
     "output_type": "stream",
     "text": [
      "Forma de X_train: (75926, 171)\n",
      "Forma de X_test: (12655, 171)\n",
      "Distribución en y_train: Counter({np.int8(0): 73270, np.int8(1): 2656})\n",
      "Distribución en y_test: Counter({np.int8(0): 12212, np.int8(1): 443})\n"
     ]
    }
   ],
   "source": [
    "X_temp, X_unused, y_temp, y_unused = train_test_split(\n",
    "    features_filtered2,\n",
    "    labels,\n",
    "    test_size=0.85,   # dejamos fuera el 65% para quedarnos con el 35%\n",
    "    random_state=42,\n",
    "    stratify=labels\n",
    ")\n",
    "\n",
    "# Ahora separamos dentro de ese 35% el 30% y 5%\n",
    "X_train, X_test, y_train, y_test = train_test_split(\n",
    "    X_temp,\n",
    "    y_temp,\n",
    "    test_size=5/35,   # 5 de 35 ≈ 14.3% de ese subset\n",
    "    random_state=42,\n",
    "    stratify=y_temp\n",
    ")\n",
    "\n",
    "print('Forma de X_train:', X_train.shape)\n",
    "print('Forma de X_test:', X_test.shape)\n",
    "print('Distribución en y_train:', Counter(y_train))\n",
    "print('Distribución en y_test:', Counter(y_test))"
   ]
  },
  {
   "cell_type": "code",
   "execution_count": null,
   "id": "140bc400-5c77-4f52-ad17-bf82ed67addc",
   "metadata": {},
   "outputs": [
    {
     "name": "stdout",
     "output_type": "stream",
     "text": [
      "================== ESTRATEGIA: Original ==================\n",
      "\n",
      "--- Entrenando Random Forest (Sin Balanceo) ---\n"
     ]
    }
   ],
   "source": [
    "from imblearn.pipeline import Pipeline as ImbPipeline\n",
    "\n",
    "# --- PARÁMETROS PARA GridSearchCV ---\n",
    "param_grid_rf = {\n",
    "    'model__n_estimators': [100, 200],\n",
    "    'model__max_depth': [10, 20],\n",
    "}\n",
    "param_grid_svc = {\n",
    "    'model__C': [1, 10],\n",
    "    'model__kernel': ['rbf']\n",
    "}\n",
    "param_grid_gb = {\n",
    "    'model__n_estimators': [100, 200],\n",
    "    'model__learning_rate': [0.05, 0.1],\n",
    "}\n",
    "\n",
    "# --- DICCIONARIO DE MODELOS ---\n",
    "models = {\n",
    "    'Random Forest': (RandomForestClassifier(random_state=42), param_grid_rf),\n",
    "    'SVC': (SVC(random_state=42, probability=True), param_grid_svc),\n",
    "    'Gradient Boosting': (GradientBoostingClassifier(random_state=42), param_grid_gb)\n",
    "}\n",
    "\n",
    "# --- DICCIONARIO PARA ALMACENAR RESULTADOS ---\n",
    "results = {}\n",
    "\n",
    "# --- BUCLE PRINCIPAL DE EXPERIMENTACIÓN  ---\n",
    "preproc_steps = {\n",
    "    \"Original\": [],\n",
    "    \"Scaler\": [('scaler', StandardScaler())],\n",
    "    \"PCA\": [('pca', PCA(n_components=0.95))],\n",
    "    \"Scaler_PCA\": [('scaler', StandardScaler()), ('pca', PCA(n_components=0.95))]\n",
    "}\n",
    "\n",
    "for preproc_name, preproc_list in preproc_steps.items():\n",
    "    print(f\"================== ESTRATEGIA: {preproc_name} ==================\")\n",
    "\n",
    "    # Aplicar preprocesamiento solo al conjunto de test una vez\n",
    "    X_train_proc, X_test_proc = X_train, X_test\n",
    "    if preproc_list:\n",
    "        preproc_pipeline = ImbPipeline(steps=preproc_list)\n",
    "        X_train_proc = preproc_pipeline.fit_transform(X_train)\n",
    "        X_test_proc = preproc_pipeline.transform(X_test)\n",
    "\n",
    "    for model_name, (model, params) in models.items():\n",
    "        # --- Escenario SIN Balanceo ---\n",
    "        print(f\"\\n--- Entrenando {model_name} (Sin Balanceo) ---\")\n",
    "        pipeline_no_balance = ImbPipeline(steps=preproc_list + [('model', model)])\n",
    "\n",
    "        # Ajustamos los nombres de los parámetros para que coincidan con el pipeline\n",
    "        search_params_no_balance = {k: v for k, v in params.items()}\n",
    "\n",
    "        grid_search = GridSearchCV(pipeline_no_balance, search_params_no_balance, cv=3, n_jobs=-1, scoring='accuracy', verbose=0)\n",
    "        grid_search.fit(X_train, y_train)\n",
    "        best_model = grid_search.best_estimator_\n",
    "        y_pred = best_model.predict(X_test)\n",
    "\n",
    "\n",
    "        accuracy = accuracy_score(y_test, y_pred)\n",
    "        key = f\"{preproc_name} + Sin Balanceo + {model_name}\"\n",
    "        results[key] = accuracy\n",
    "        print(f\"Accuracy en Test: {accuracy:.4f}\")\n",
    "\n",
    "        # --- Escenario CON Balanceo (SMOTE) ---\n",
    "        print(f\"--- Entrenando {model_name} (Con SMOTE) ---\")\n",
    "\n",
    "        # Creamos el pipeline que incluye SMOTE\n",
    "        pipeline_with_balance = ImbPipeline(steps=[\n",
    "            *preproc_list,\n",
    "            ('smote', SMOTE(random_state=42)),\n",
    "            ('model', model)\n",
    "        ])\n",
    "\n",
    "        search_params_balance = {k: v for k, v in params.items()}\n",
    "\n",
    "        grid_search_smote = GridSearchCV(pipeline_with_balance, search_params_balance, cv=3, n_jobs=-1, scoring='accuracy', verbose=0)\n",
    "        grid_search_smote.fit(X_train, y_train)\n",
    "        best_model_smote = grid_search_smote.best_estimator_\n",
    "        y_pred_smote = best_model_smote.predict(X_test)\n",
    "\n",
    "        accuracy_smote = accuracy_score(y_test, y_pred_smote)\n",
    "        key_smote = f\"{preproc_name} + Con SMOTE + {model_name}\"\n",
    "        results[key_smote] = accuracy_smote\n",
    "        print(f\"Accuracy en Test: {accuracy_smote:.4f}\")"
   ]
  },
  {
   "cell_type": "markdown",
   "id": "cca2be3d-27ad-4a13-b385-ad044c81baf8",
   "metadata": {},
   "source": [
    "## Interpretación de nuestro dataset:\n",
    "Tenemos n características y un total de m entradas, \n",
    "Ya separamos nuestro target 'isFraud' del dataframe de los features. También hemos depurado un poco los features ya que hay caracteristicas que tienen demasiada correlación entre sí y al final no nos dan información nueva \n",
    "Para empezar, si queremos encontrar el mejor fit para nuestros datos no pudemos utilizar el tamaño completo, ya que es computacionalmente muy desgastante, lo que podemos hacer "
   ]
  },
  {
   "cell_type": "code",
   "execution_count": null,
   "id": "bf9444a1-d7e7-4329-8dc8-689c2c012cdf",
   "metadata": {},
   "outputs": [],
   "source": []
  }
 ],
 "metadata": {
  "kernelspec": {
   "display_name": "Mi Proyecto",
   "language": "python",
   "name": "mi_venv"
  },
  "language_info": {
   "codemirror_mode": {
    "name": "ipython",
    "version": 3
   },
   "file_extension": ".py",
   "mimetype": "text/x-python",
   "name": "python",
   "nbconvert_exporter": "python",
   "pygments_lexer": "ipython3",
   "version": "3.13.7"
  }
 },
 "nbformat": 4,
 "nbformat_minor": 5
}
